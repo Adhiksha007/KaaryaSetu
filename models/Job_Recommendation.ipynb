{
  "cells": [
    {
      "cell_type": "code",
      "execution_count": 1,
      "metadata": {
        "colab": {
          "base_uri": "https://localhost:8080/"
        },
        "id": "kQsE9sOcfnid",
        "outputId": "0fe3d9cb-1700-471c-b074-44050ea9d11a"
      },
      "outputs": [
        {
          "name": "stdout",
          "output_type": "stream",
          "text": [
            "Downloading from https://www.kaggle.com/api/v1/datasets/download/ravindrasinghrana/job-description-dataset?dataset_version_number=1...\n"
          ]
        },
        {
          "name": "stderr",
          "output_type": "stream",
          "text": [
            "100%|██████████| 457M/457M [00:07<00:00, 66.9MB/s]"
          ]
        },
        {
          "name": "stdout",
          "output_type": "stream",
          "text": [
            "Extracting files...\n"
          ]
        },
        {
          "name": "stderr",
          "output_type": "stream",
          "text": [
            "\n"
          ]
        },
        {
          "name": "stdout",
          "output_type": "stream",
          "text": [
            "Path to dataset files: /root/.cache/kagglehub/datasets/ravindrasinghrana/job-description-dataset/versions/1\n"
          ]
        }
      ],
      "source": [
        "import kagglehub\n",
        "\n",
        "# Download latest version\n",
        "path = kagglehub.dataset_download(\"ravindrasinghrana/job-description-dataset\")\n",
        "\n",
        "print(\"Path to dataset files:\", path)"
      ]
    },
    {
      "cell_type": "code",
      "execution_count": 1,
      "metadata": {
        "id": "vAelToM-eE8a"
      },
      "outputs": [],
      "source": [
        "import pandas as pd\n",
        "from sklearn.metrics.pairwise import cosine_similarity\n",
        "from sklearn.feature_extraction.text import TfidfVectorizer\n",
        "import joblib"
      ]
    },
    {
      "cell_type": "code",
      "execution_count": 2,
      "metadata": {
        "id": "DzQ9f2_UeG_Z"
      },
      "outputs": [],
      "source": [
        "# data = pd.read_csv(path + \"/job_descriptions.csv\")\n",
        "data = joblib.load('jobs_data.pkl')"
      ]
    },
    {
      "cell_type": "code",
      "execution_count": 3,
      "metadata": {
        "colab": {
          "base_uri": "https://localhost:8080/",
          "height": 620
        },
        "id": "PwtB0DGBeKY6",
        "outputId": "cea5a2ac-f450-460e-e787-2166097fe59b"
      },
      "outputs": [
        {
          "data": {
            "text/html": [
              "<div>\n",
              "<style scoped>\n",
              "    .dataframe tbody tr th:only-of-type {\n",
              "        vertical-align: middle;\n",
              "    }\n",
              "\n",
              "    .dataframe tbody tr th {\n",
              "        vertical-align: top;\n",
              "    }\n",
              "\n",
              "    .dataframe thead th {\n",
              "        text-align: right;\n",
              "    }\n",
              "</style>\n",
              "<table border=\"1\" class=\"dataframe\">\n",
              "  <thead>\n",
              "    <tr style=\"text-align: right;\">\n",
              "      <th></th>\n",
              "      <th>Job Id</th>\n",
              "      <th>Experience</th>\n",
              "      <th>Qualifications</th>\n",
              "      <th>Salary Range</th>\n",
              "      <th>location</th>\n",
              "      <th>Country</th>\n",
              "      <th>latitude</th>\n",
              "      <th>longitude</th>\n",
              "      <th>Work Type</th>\n",
              "      <th>Company Size</th>\n",
              "      <th>...</th>\n",
              "      <th>Company Profile</th>\n",
              "      <th>combined_text</th>\n",
              "      <th>Sector</th>\n",
              "      <th>Industry</th>\n",
              "      <th>City</th>\n",
              "      <th>State</th>\n",
              "      <th>Zip</th>\n",
              "      <th>Website</th>\n",
              "      <th>Ticker</th>\n",
              "      <th>CEO</th>\n",
              "    </tr>\n",
              "  </thead>\n",
              "  <tbody>\n",
              "    <tr>\n",
              "      <th>0</th>\n",
              "      <td>1089843540111562</td>\n",
              "      <td>5 - 15 Years</td>\n",
              "      <td>M.Tech</td>\n",
              "      <td>$59K-$99K</td>\n",
              "      <td>Douglas</td>\n",
              "      <td>Isle of Man</td>\n",
              "      <td>54.2361</td>\n",
              "      <td>-4.5481</td>\n",
              "      <td>Intern</td>\n",
              "      <td>26801</td>\n",
              "      <td>...</td>\n",
              "      <td>{\"Sector\":\"Diversified\",\"Industry\":\"Diversifie...</td>\n",
              "      <td>M.Tech Social media platforms (e.g., Facebook,...</td>\n",
              "      <td>Diversified</td>\n",
              "      <td>Diversified Financials</td>\n",
              "      <td>Sunny Isles Beach</td>\n",
              "      <td>Florida</td>\n",
              "      <td>33160</td>\n",
              "      <td>www.ielp.com</td>\n",
              "      <td>IEP</td>\n",
              "      <td>David Willetts</td>\n",
              "    </tr>\n",
              "    <tr>\n",
              "      <th>1</th>\n",
              "      <td>398454096642776</td>\n",
              "      <td>2 - 12 Years</td>\n",
              "      <td>BCA</td>\n",
              "      <td>$56K-$116K</td>\n",
              "      <td>Ashgabat</td>\n",
              "      <td>Turkmenistan</td>\n",
              "      <td>38.9697</td>\n",
              "      <td>59.5563</td>\n",
              "      <td>Intern</td>\n",
              "      <td>100340</td>\n",
              "      <td>...</td>\n",
              "      <td>{\"Sector\":\"Financial Services\",\"Industry\":\"Com...</td>\n",
              "      <td>BCA HTML, CSS, JavaScript Frontend frameworks ...</td>\n",
              "      <td>Financial Services</td>\n",
              "      <td>Commercial Banks</td>\n",
              "      <td>Pittsburgh</td>\n",
              "      <td>Pennsylvania</td>\n",
              "      <td>15222</td>\n",
              "      <td>www.pnc.com</td>\n",
              "      <td>PNC</td>\n",
              "      <td>William S. Demchak</td>\n",
              "    </tr>\n",
              "    <tr>\n",
              "      <th>2</th>\n",
              "      <td>481640072963533</td>\n",
              "      <td>0 - 12 Years</td>\n",
              "      <td>PhD</td>\n",
              "      <td>$61K-$104K</td>\n",
              "      <td>Macao</td>\n",
              "      <td>Macao SAR, China</td>\n",
              "      <td>22.1987</td>\n",
              "      <td>113.5439</td>\n",
              "      <td>Temporary</td>\n",
              "      <td>84525</td>\n",
              "      <td>...</td>\n",
              "      <td>{\"Sector\":\"Insurance\",\"Industry\":\"Insurance: P...</td>\n",
              "      <td>PhD Quality control processes and methodologie...</td>\n",
              "      <td>Insurance</td>\n",
              "      <td>Insurance: Property and Casualty (Stock)</td>\n",
              "      <td>San Antonio</td>\n",
              "      <td>Texas</td>\n",
              "      <td>78288</td>\n",
              "      <td>www.usaa.com</td>\n",
              "      <td></td>\n",
              "      <td>Wayne Peacock</td>\n",
              "    </tr>\n",
              "    <tr>\n",
              "      <th>3</th>\n",
              "      <td>688192671473044</td>\n",
              "      <td>4 - 11 Years</td>\n",
              "      <td>PhD</td>\n",
              "      <td>$65K-$91K</td>\n",
              "      <td>Porto-Novo</td>\n",
              "      <td>Benin</td>\n",
              "      <td>9.3077</td>\n",
              "      <td>2.3158</td>\n",
              "      <td>Full-Time</td>\n",
              "      <td>129896</td>\n",
              "      <td>...</td>\n",
              "      <td>{\"Sector\":\"Energy\",\"Industry\":\"Mining, Crude-O...</td>\n",
              "      <td>PhD Wireless network design and architecture W...</td>\n",
              "      <td>Energy</td>\n",
              "      <td>Mining, Crude-Oil Production</td>\n",
              "      <td>New York</td>\n",
              "      <td>New York</td>\n",
              "      <td>10036</td>\n",
              "      <td>www.hess.com</td>\n",
              "      <td>HES</td>\n",
              "      <td>John B. Hess</td>\n",
              "    </tr>\n",
              "    <tr>\n",
              "      <th>4</th>\n",
              "      <td>117057806156508</td>\n",
              "      <td>1 - 12 Years</td>\n",
              "      <td>MBA</td>\n",
              "      <td>$64K-$87K</td>\n",
              "      <td>Santiago</td>\n",
              "      <td>Chile</td>\n",
              "      <td>-35.6751</td>\n",
              "      <td>-71.5429</td>\n",
              "      <td>Intern</td>\n",
              "      <td>53944</td>\n",
              "      <td>...</td>\n",
              "      <td>{\"Sector\":\"Energy\",\"Industry\":\"Energy - Oil &amp; ...</td>\n",
              "      <td>MBA Event planning Conference logistics Budget...</td>\n",
              "      <td>Energy</td>\n",
              "      <td>Energy - Oil &amp; Gas Exploration &amp; Production</td>\n",
              "      <td>Edinburgh</td>\n",
              "      <td>Scotland</td>\n",
              "      <td>EH2 4NH</td>\n",
              "      <td>https://www.cairnenergy.com/</td>\n",
              "      <td>CNE</td>\n",
              "      <td>Simon Thomson</td>\n",
              "    </tr>\n",
              "  </tbody>\n",
              "</table>\n",
              "<p>5 rows × 32 columns</p>\n",
              "</div>"
            ],
            "text/plain": [
              "             Job Id    Experience Qualifications Salary Range    location  \\\n",
              "0  1089843540111562  5 - 15 Years         M.Tech    $59K-$99K     Douglas   \n",
              "1   398454096642776  2 - 12 Years            BCA   $56K-$116K    Ashgabat   \n",
              "2   481640072963533  0 - 12 Years            PhD   $61K-$104K       Macao   \n",
              "3   688192671473044  4 - 11 Years            PhD    $65K-$91K  Porto-Novo   \n",
              "4   117057806156508  1 - 12 Years            MBA    $64K-$87K    Santiago   \n",
              "\n",
              "            Country  latitude  longitude  Work Type  Company Size  ...  \\\n",
              "0       Isle of Man   54.2361    -4.5481     Intern         26801  ...   \n",
              "1      Turkmenistan   38.9697    59.5563     Intern        100340  ...   \n",
              "2  Macao SAR, China   22.1987   113.5439  Temporary         84525  ...   \n",
              "3             Benin    9.3077     2.3158  Full-Time        129896  ...   \n",
              "4             Chile  -35.6751   -71.5429     Intern         53944  ...   \n",
              "\n",
              "                                     Company Profile  \\\n",
              "0  {\"Sector\":\"Diversified\",\"Industry\":\"Diversifie...   \n",
              "1  {\"Sector\":\"Financial Services\",\"Industry\":\"Com...   \n",
              "2  {\"Sector\":\"Insurance\",\"Industry\":\"Insurance: P...   \n",
              "3  {\"Sector\":\"Energy\",\"Industry\":\"Mining, Crude-O...   \n",
              "4  {\"Sector\":\"Energy\",\"Industry\":\"Energy - Oil & ...   \n",
              "\n",
              "                                       combined_text              Sector  \\\n",
              "0  M.Tech Social media platforms (e.g., Facebook,...         Diversified   \n",
              "1  BCA HTML, CSS, JavaScript Frontend frameworks ...  Financial Services   \n",
              "2  PhD Quality control processes and methodologie...           Insurance   \n",
              "3  PhD Wireless network design and architecture W...              Energy   \n",
              "4  MBA Event planning Conference logistics Budget...              Energy   \n",
              "\n",
              "                                      Industry               City  \\\n",
              "0                       Diversified Financials  Sunny Isles Beach   \n",
              "1                             Commercial Banks         Pittsburgh   \n",
              "2     Insurance: Property and Casualty (Stock)        San Antonio   \n",
              "3                 Mining, Crude-Oil Production           New York   \n",
              "4  Energy - Oil & Gas Exploration & Production          Edinburgh   \n",
              "\n",
              "          State      Zip                       Website Ticker  \\\n",
              "0       Florida    33160                  www.ielp.com    IEP   \n",
              "1  Pennsylvania    15222                   www.pnc.com    PNC   \n",
              "2         Texas    78288                  www.usaa.com          \n",
              "3      New York    10036                  www.hess.com    HES   \n",
              "4      Scotland  EH2 4NH  https://www.cairnenergy.com/    CNE   \n",
              "\n",
              "                  CEO  \n",
              "0      David Willetts  \n",
              "1  William S. Demchak  \n",
              "2       Wayne Peacock  \n",
              "3        John B. Hess  \n",
              "4       Simon Thomson  \n",
              "\n",
              "[5 rows x 32 columns]"
            ]
          },
          "execution_count": 3,
          "metadata": {},
          "output_type": "execute_result"
        }
      ],
      "source": [
        "data.head()"
      ]
    },
    {
      "cell_type": "code",
      "execution_count": 4,
      "metadata": {
        "colab": {
          "base_uri": "https://localhost:8080/"
        },
        "id": "mUP4_xc8eot3",
        "outputId": "f73de50f-8b42-4b0b-cdfd-2406182b926a"
      },
      "outputs": [
        {
          "data": {
            "text/plain": [
              "(1608618, 32)"
            ]
          },
          "execution_count": 4,
          "metadata": {},
          "output_type": "execute_result"
        }
      ],
      "source": [
        "data.shape"
      ]
    },
    {
      "cell_type": "code",
      "execution_count": 5,
      "metadata": {
        "colab": {
          "base_uri": "https://localhost:8080/",
          "height": 458
        },
        "id": "d-QVLm13esM-",
        "outputId": "61c4672f-b637-4b0c-95e0-6402f8bab6ef"
      },
      "outputs": [
        {
          "data": {
            "text/plain": [
              "0          Social media platforms (e.g., Facebook, Twitte...\n",
              "1          HTML, CSS, JavaScript Frontend frameworks (e.g...\n",
              "2          Quality control processes and methodologies St...\n",
              "3          Wireless network design and architecture Wi-Fi...\n",
              "4          Event planning Conference logistics Budget man...\n",
              "                                 ...                        \n",
              "1615935    Mechanical engineering CAD software (e.g., Sol...\n",
              "1615936    Strategic IT planning Leadership and managemen...\n",
              "1615937    Mechanical engineering CAD software (e.g., Sol...\n",
              "1615938    Training program coordination Training materia...\n",
              "1615939    Wedding planning Venue selection Catering and ...\n",
              "Name: skills, Length: 1608618, dtype: object"
            ]
          },
          "execution_count": 5,
          "metadata": {},
          "output_type": "execute_result"
        }
      ],
      "source": [
        "data[\"skills\"]"
      ]
    },
    {
      "cell_type": "code",
      "execution_count": 6,
      "metadata": {
        "colab": {
          "base_uri": "https://localhost:8080/",
          "height": 429
        },
        "id": "LyHIsWa2ab3M",
        "outputId": "cc87e319-51e5-48a4-e3ff-ab30c5e56fdb"
      },
      "outputs": [
        {
          "data": {
            "text/plain": [
              "Qualifications\n",
              "BBA       161405\n",
              "BA        161403\n",
              "BCA       161010\n",
              "M.Tech    160991\n",
              "PhD       160926\n",
              "MBA       160812\n",
              "B.Tech    160710\n",
              "M.Com     160625\n",
              "B.Com     160583\n",
              "MCA       160153\n",
              "Name: count, dtype: int64"
            ]
          },
          "execution_count": 6,
          "metadata": {},
          "output_type": "execute_result"
        }
      ],
      "source": [
        "data[\"Qualifications\"].value_counts()"
      ]
    },
    {
      "cell_type": "code",
      "execution_count": 7,
      "metadata": {
        "colab": {
          "base_uri": "https://localhost:8080/"
        },
        "id": "Jvhxj5vSe4_A",
        "outputId": "0e97d9f2-8498-4d10-c70e-1304a42bfe9f"
      },
      "outputs": [
        {
          "name": "stdout",
          "output_type": "stream",
          "text": [
            "<class 'pandas.core.frame.DataFrame'>\n",
            "Index: 1608618 entries, 0 to 1615939\n",
            "Data columns (total 32 columns):\n",
            " #   Column            Non-Null Count    Dtype  \n",
            "---  ------            --------------    -----  \n",
            " 0   Job Id            1608618 non-null  int64  \n",
            " 1   Experience        1608618 non-null  object \n",
            " 2   Qualifications    1608618 non-null  object \n",
            " 3   Salary Range      1608618 non-null  object \n",
            " 4   location          1608618 non-null  object \n",
            " 5   Country           1608618 non-null  object \n",
            " 6   latitude          1608618 non-null  float64\n",
            " 7   longitude         1608618 non-null  float64\n",
            " 8   Work Type         1608618 non-null  object \n",
            " 9   Company Size      1608618 non-null  int64  \n",
            " 10  Job Posting Date  1608618 non-null  object \n",
            " 11  Preference        1608618 non-null  object \n",
            " 12  Contact Person    1608618 non-null  object \n",
            " 13  Contact           1608618 non-null  object \n",
            " 14  Job Title         1608618 non-null  object \n",
            " 15  Role              1608618 non-null  object \n",
            " 16  Job Portal        1608618 non-null  object \n",
            " 17  Job Description   1608618 non-null  object \n",
            " 18  Benefits          1608618 non-null  object \n",
            " 19  skills            1608618 non-null  object \n",
            " 20  Responsibilities  1608618 non-null  object \n",
            " 21  Company           1608618 non-null  object \n",
            " 22  Company Profile   1608618 non-null  object \n",
            " 23  combined_text     1608618 non-null  object \n",
            " 24  Sector            1608618 non-null  object \n",
            " 25  Industry          1608618 non-null  object \n",
            " 26  City              1608618 non-null  object \n",
            " 27  State             1608618 non-null  object \n",
            " 28  Zip               1608618 non-null  object \n",
            " 29  Website           1608618 non-null  object \n",
            " 30  Ticker            1608618 non-null  object \n",
            " 31  CEO               1608618 non-null  object \n",
            "dtypes: float64(2), int64(2), object(28)\n",
            "memory usage: 405.0+ MB\n"
          ]
        }
      ],
      "source": [
        "data.info()"
      ]
    },
    {
      "cell_type": "code",
      "execution_count": 8,
      "metadata": {},
      "outputs": [
        {
          "data": {
            "text/plain": [
              "Job Id              0\n",
              "Experience          0\n",
              "Qualifications      0\n",
              "Salary Range        0\n",
              "location            0\n",
              "Country             0\n",
              "latitude            0\n",
              "longitude           0\n",
              "Work Type           0\n",
              "Company Size        0\n",
              "Job Posting Date    0\n",
              "Preference          0\n",
              "Contact Person      0\n",
              "Contact             0\n",
              "Job Title           0\n",
              "Role                0\n",
              "Job Portal          0\n",
              "Job Description     0\n",
              "Benefits            0\n",
              "skills              0\n",
              "Responsibilities    0\n",
              "Company             0\n",
              "Company Profile     0\n",
              "combined_text       0\n",
              "Sector              0\n",
              "Industry            0\n",
              "City                0\n",
              "State               0\n",
              "Zip                 0\n",
              "Website             0\n",
              "Ticker              0\n",
              "CEO                 0\n",
              "dtype: int64"
            ]
          },
          "execution_count": 8,
          "metadata": {},
          "output_type": "execute_result"
        }
      ],
      "source": [
        "data.isna().sum()"
      ]
    },
    {
      "cell_type": "code",
      "execution_count": 20,
      "metadata": {
        "id": "FLqGeSO5fSwW"
      },
      "outputs": [],
      "source": [
        "data.dropna(axis=0, inplace=True)"
      ]
    },
    {
      "cell_type": "code",
      "execution_count": 8,
      "metadata": {},
      "outputs": [
        {
          "data": {
            "text/plain": [
              "(1608618, 32)"
            ]
          },
          "execution_count": 8,
          "metadata": {},
          "output_type": "execute_result"
        }
      ],
      "source": [
        "data.shape"
      ]
    },
    {
      "cell_type": "code",
      "execution_count": 9,
      "metadata": {},
      "outputs": [
        {
          "data": {
            "text/plain": [
              "Work Type\n",
              "Part-Time    322576\n",
              "Temporary    322008\n",
              "Contract     321641\n",
              "Intern       321634\n",
              "Full-Time    320759\n",
              "Name: count, dtype: int64"
            ]
          },
          "execution_count": 9,
          "metadata": {},
          "output_type": "execute_result"
        }
      ],
      "source": [
        "data['Work Type'].value_counts()"
      ]
    },
    {
      "cell_type": "code",
      "execution_count": 10,
      "metadata": {},
      "outputs": [
        {
          "data": {
            "text/plain": [
              "Qualifications\n",
              "BBA       161405\n",
              "BA        161403\n",
              "BCA       161010\n",
              "M.Tech    160991\n",
              "PhD       160926\n",
              "MBA       160812\n",
              "B.Tech    160710\n",
              "M.Com     160625\n",
              "B.Com     160583\n",
              "MCA       160153\n",
              "Name: count, dtype: int64"
            ]
          },
          "execution_count": 10,
          "metadata": {},
          "output_type": "execute_result"
        }
      ],
      "source": [
        "data['Qualifications'].value_counts()"
      ]
    },
    {
      "cell_type": "code",
      "execution_count": 11,
      "metadata": {
        "colab": {
          "base_uri": "https://localhost:8080/"
        },
        "id": "aXAllCKIbEYS",
        "outputId": "dadb9a5d-0359-4149-e716-c5c66edbf6c4"
      },
      "outputs": [
        {
          "data": {
            "text/plain": [
              "Index(['Job Id', 'Experience', 'Qualifications', 'Salary Range', 'location',\n",
              "       'Country', 'latitude', 'longitude', 'Work Type', 'Company Size',\n",
              "       'Job Posting Date', 'Preference', 'Contact Person', 'Contact',\n",
              "       'Job Title', 'Role', 'Job Portal', 'Job Description', 'Benefits',\n",
              "       'skills', 'Responsibilities', 'Company', 'Company Profile',\n",
              "       'combined_text', 'Sector', 'Industry', 'City', 'State', 'Zip',\n",
              "       'Website', 'Ticker', 'CEO'],\n",
              "      dtype='object')"
            ]
          },
          "execution_count": 11,
          "metadata": {},
          "output_type": "execute_result"
        }
      ],
      "source": [
        "data.columns"
      ]
    },
    {
      "cell_type": "code",
      "execution_count": 12,
      "metadata": {},
      "outputs": [
        {
          "data": {
            "text/plain": [
              "0    Female\n",
              "1    Female\n",
              "2      Male\n",
              "3    Female\n",
              "4    Female\n",
              "Name: Preference, dtype: object"
            ]
          },
          "execution_count": 12,
          "metadata": {},
          "output_type": "execute_result"
        }
      ],
      "source": [
        "data['Preference'].head()"
      ]
    },
    {
      "cell_type": "code",
      "execution_count": 11,
      "metadata": {
        "id": "T1IwDF3Ls9XL"
      },
      "outputs": [],
      "source": [
        "data[\"Experience\"] = data[\"Experience\"].str.replace(\"to\", \"-\")"
      ]
    },
    {
      "cell_type": "code",
      "execution_count": 12,
      "metadata": {
        "colab": {
          "base_uri": "https://localhost:8080/",
          "height": 458
        },
        "id": "LoDnbqU2uNpt",
        "outputId": "8db9b15d-eccf-4b6f-8692-66198e0caf57"
      },
      "outputs": [
        {
          "data": {
            "text/plain": [
              "0          5 - 15 Years\n",
              "1          2 - 12 Years\n",
              "2          0 - 12 Years\n",
              "3          4 - 11 Years\n",
              "4          1 - 12 Years\n",
              "               ...     \n",
              "1615935    0 - 12 Years\n",
              "1615936    2 - 14 Years\n",
              "1615937    4 - 15 Years\n",
              "1615938    5 - 15 Years\n",
              "1615939    1 - 11 Years\n",
              "Name: Experience, Length: 1608618, dtype: object"
            ]
          },
          "execution_count": 12,
          "metadata": {},
          "output_type": "execute_result"
        }
      ],
      "source": [
        "data[\"Experience\"]"
      ]
    },
    {
      "cell_type": "code",
      "execution_count": 13,
      "metadata": {},
      "outputs": [],
      "source": [
        "profile = data['Company Profile']"
      ]
    },
    {
      "cell_type": "code",
      "execution_count": 14,
      "metadata": {},
      "outputs": [
        {
          "data": {
            "text/plain": [
              "'{\"Sector\":\"Diversified\",\"Industry\":\"Diversified Financials\",\"City\":\"Sunny Isles Beach\",\"State\":\"Florida\",\"Zip\":\"33160\",\"Website\":\"www.ielp.com\",\"Ticker\":\"IEP\",\"CEO\":\"David Willetts\"}'"
            ]
          },
          "execution_count": 14,
          "metadata": {},
          "output_type": "execute_result"
        }
      ],
      "source": [
        "profile[0]"
      ]
    },
    {
      "cell_type": "code",
      "execution_count": 13,
      "metadata": {},
      "outputs": [],
      "source": [
        "import json\n",
        "\n",
        "list_of_dicts = profile.to_dict()\n"
      ]
    },
    {
      "cell_type": "code",
      "execution_count": 19,
      "metadata": {},
      "outputs": [
        {
          "data": {
            "text/plain": [
              "1610462"
            ]
          },
          "execution_count": 19,
          "metadata": {},
          "output_type": "execute_result"
        }
      ],
      "source": [
        "len(list_of_dicts)"
      ]
    },
    {
      "cell_type": "code",
      "execution_count": 18,
      "metadata": {},
      "outputs": [
        {
          "name": "stdout",
          "output_type": "stream",
          "text": [
            "Successfully converted 1608618 entries.\n",
            "Failed to convert 1844 entries.\n",
            "Sample error: [(139, \"Expecting ',' delimiter: line 1 column 179 (char 178)\"), (551, \"Expecting ',' delimiter: line 1 column 179 (char 178)\"), (975, \"Expecting ',' delimiter: line 1 column 179 (char 178)\")]\n"
          ]
        }
      ],
      "source": [
        "import json\n",
        "\n",
        "converted_data = {}\n",
        "errors = {}\n",
        "\n",
        "for k, v in list_of_dicts.items():\n",
        "    try:\n",
        "        converted_data[k] = json.loads(v)\n",
        "    except json.JSONDecodeError as e:\n",
        "        errors[k] = str(e)\n",
        "\n",
        "print(f\"Successfully converted {len(converted_data)} entries.\")\n",
        "print(f\"Failed to convert {len(errors)} entries.\")\n",
        "print(\"Sample error:\", list(errors.items())[:3])  # Show first 3 errors\n"
      ]
    },
    {
      "cell_type": "code",
      "execution_count": null,
      "metadata": {},
      "outputs": [],
      "source": [
        "converted_data"
      ]
    },
    {
      "cell_type": "code",
      "execution_count": 27,
      "metadata": {},
      "outputs": [],
      "source": [
        "df = pd.DataFrame(converted_data)"
      ]
    },
    {
      "cell_type": "code",
      "execution_count": 30,
      "metadata": {},
      "outputs": [],
      "source": [
        "new = df.T"
      ]
    },
    {
      "cell_type": "code",
      "execution_count": 34,
      "metadata": {},
      "outputs": [
        {
          "name": "stdout",
          "output_type": "stream",
          "text": [
            "<class 'pandas.core.frame.DataFrame'>\n",
            "Index: 1608618 entries, 0 to 1615939\n",
            "Data columns (total 8 columns):\n",
            " #   Column    Non-Null Count    Dtype \n",
            "---  ------    --------------    ----- \n",
            " 0   Sector    1608618 non-null  object\n",
            " 1   Industry  1608618 non-null  object\n",
            " 2   City      1608618 non-null  object\n",
            " 3   State     1608618 non-null  object\n",
            " 4   Zip       1608618 non-null  object\n",
            " 5   Website   1608618 non-null  object\n",
            " 6   Ticker    1608618 non-null  object\n",
            " 7   CEO       1608618 non-null  object\n",
            "dtypes: object(8)\n",
            "memory usage: 110.5+ MB\n"
          ]
        }
      ],
      "source": [
        "new.info()"
      ]
    },
    {
      "cell_type": "code",
      "execution_count": 13,
      "metadata": {
        "id": "lV1OLrAguP3L"
      },
      "outputs": [],
      "source": [
        "model = TfidfVectorizer(stop_words=\"english\")"
      ]
    },
    {
      "cell_type": "code",
      "execution_count": 13,
      "metadata": {
        "id": "KoJW_F9uw9aT"
      },
      "outputs": [],
      "source": [
        "data['combined_text'] = data[[\"Qualifications\",\"skills\", \"Experience\"]].astype(str).agg(' '.join, axis=1)"
      ]
    },
    {
      "cell_type": "code",
      "execution_count": 14,
      "metadata": {
        "id": "ORrOHRVEvMrv"
      },
      "outputs": [],
      "source": [
        "tfidf_matrix = model.fit_transform(data[\"combined_text\"])"
      ]
    },
    {
      "cell_type": "code",
      "execution_count": 15,
      "metadata": {
        "colab": {
          "base_uri": "https://localhost:8080/"
        },
        "id": "H4A6zl7Kv9aF",
        "outputId": "71087eeb-2971-4f9d-9078-4d6f76a25612"
      },
      "outputs": [
        {
          "data": {
            "text/plain": [
              "<Compressed Sparse Row sparse matrix of dtype 'float64'\n",
              "\twith 25378840 stored elements and shape (1608618, 1035)>"
            ]
          },
          "execution_count": 15,
          "metadata": {},
          "output_type": "execute_result"
        }
      ],
      "source": [
        "tfidf_matrix"
      ]
    },
    {
      "cell_type": "code",
      "execution_count": 16,
      "metadata": {
        "id": "CLY7HhaefrVz"
      },
      "outputs": [],
      "source": [
        "def recommendations(user_input):\n",
        "    user_vec = model.transform([user_input])\n",
        "    cosine_sim = cosine_similarity(user_vec, tfidf_matrix)\n",
        "    sim_jobs = cosine_sim[0].argsort()[::-1]  # Fix: use [0] to flatten to 1D\n",
        "    return data.iloc[sim_jobs]\n"
      ]
    },
    {
      "cell_type": "code",
      "execution_count": 17,
      "metadata": {
        "id": "KFcuYJs8iqXi"
      },
      "outputs": [],
      "source": [
        "recommended = recommendations(\"B.Tech HTML CSS JavaScript DevOps 0 - 5 years\")"
      ]
    },
    {
      "cell_type": "code",
      "execution_count": 19,
      "metadata": {},
      "outputs": [
        {
          "data": {
            "text/plain": [
              "1034880    Web Developer\n",
              "438969     Web Developer\n",
              "786054     Web Developer\n",
              "950951     Web Developer\n",
              "118916     Web Developer\n",
              "Name: Job Title, dtype: object"
            ]
          },
          "execution_count": 19,
          "metadata": {},
          "output_type": "execute_result"
        }
      ],
      "source": [
        "recommended['Job Title'].head()"
      ]
    },
    {
      "cell_type": "code",
      "execution_count": null,
      "metadata": {
        "colab": {
          "base_uri": "https://localhost:8080/"
        },
        "id": "09cOig2HjAX8",
        "outputId": "db052038-595d-48ec-943f-9393f918b375"
      },
      "outputs": [
        {
          "name": "stdout",
          "output_type": "stream",
          "text": [
            "<class 'pandas.core.frame.DataFrame'>\n",
            "Index: 1610462 entries, 1115744 to 6432\n",
            "Data columns (total 24 columns):\n",
            " #   Column            Non-Null Count    Dtype  \n",
            "---  ------            --------------    -----  \n",
            " 0   Job Id            1610462 non-null  int64  \n",
            " 1   Experience        1610462 non-null  object \n",
            " 2   Qualifications    1610462 non-null  object \n",
            " 3   Salary Range      1610462 non-null  object \n",
            " 4   location          1610462 non-null  object \n",
            " 5   Country           1610462 non-null  object \n",
            " 6   latitude          1610462 non-null  float64\n",
            " 7   longitude         1610462 non-null  float64\n",
            " 8   Work Type         1610462 non-null  object \n",
            " 9   Company Size      1610462 non-null  int64  \n",
            " 10  Job Posting Date  1610462 non-null  object \n",
            " 11  Preference        1610462 non-null  object \n",
            " 12  Contact Person    1610462 non-null  object \n",
            " 13  Contact           1610462 non-null  object \n",
            " 14  Job Title         1610462 non-null  object \n",
            " 15  Role              1610462 non-null  object \n",
            " 16  Job Portal        1610462 non-null  object \n",
            " 17  Job Description   1610462 non-null  object \n",
            " 18  Benefits          1610462 non-null  object \n",
            " 19  skills            1610462 non-null  object \n",
            " 20  Responsibilities  1610462 non-null  object \n",
            " 21  Company           1610462 non-null  object \n",
            " 22  Company Profile   1610462 non-null  object \n",
            " 23  combined_text     1610462 non-null  object \n",
            "dtypes: float64(2), int64(2), object(20)\n",
            "memory usage: 307.2+ MB\n"
          ]
        }
      ],
      "source": [
        "recommended.info()"
      ]
    },
    {
      "cell_type": "code",
      "execution_count": null,
      "metadata": {
        "colab": {
          "base_uri": "https://localhost:8080/"
        },
        "id": "0BhbsiOzkAaz",
        "outputId": "e9de4c53-8bb3-4271-d805-9a638176c1ac"
      },
      "outputs": [
        {
          "data": {
            "text/plain": [
              "['tfidf_new_matrix.pkl']"
            ]
          },
          "execution_count": 20,
          "metadata": {},
          "output_type": "execute_result"
        }
      ],
      "source": [
        "import joblib\n",
        "\n",
        "# # Save the model\n",
        "# joblib.dump(model, 'job_recommendation_model.pkl')\n",
        "\n",
        "# # Save the TF-IDF matrix\n",
        "joblib.dump(tfidf_matrix, 'tfidf_new_matrix.pkl')\n",
        "\n",
        "# save the data DataFrame too\n",
        "# joblib.dump(data, 'jobs_data.pkl')\n",
        "\n",
        "# For store sectors data\n",
        "# joblib.dump(converted_data, \"company_profile.pkl\")\n"
      ]
    },
    {
      "cell_type": "code",
      "execution_count": null,
      "metadata": {
        "id": "BHWtFJUWpClo"
      },
      "outputs": [],
      "source": [
        "# Load the model\n",
        "model = joblib.load('job_recommendation_model.pkl')\n",
        "\n",
        "# Load the TF-IDF matrix\n",
        "tfidf_matrix = joblib.load('tfidf_matrix.pkl')\n",
        "\n",
        "# Load the jobs data\n",
        "data = joblib.load('jobs_data.pkl')\n"
      ]
    },
    {
      "cell_type": "code",
      "execution_count": null,
      "metadata": {
        "id": "O4BtBFfFr8IZ"
      },
      "outputs": [],
      "source": []
    }
  ],
  "metadata": {
    "colab": {
      "provenance": []
    },
    "kernelspec": {
      "display_name": "Python 3",
      "name": "python3"
    },
    "language_info": {
      "codemirror_mode": {
        "name": "ipython",
        "version": 3
      },
      "file_extension": ".py",
      "mimetype": "text/x-python",
      "name": "python",
      "nbconvert_exporter": "python",
      "pygments_lexer": "ipython3",
      "version": "3.13.5"
    }
  },
  "nbformat": 4,
  "nbformat_minor": 0
}
